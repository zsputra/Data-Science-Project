{
 "cells": [
  {
   "cell_type": "code",
   "execution_count": 2,
   "metadata": {},
   "outputs": [],
   "source": [
    "import pandas as pd\n",
    "import numpy as np\n",
    "import matplotlib.pyplot as plt\n",
    "import seaborn as sns\n",
    "sns.set()"
   ]
  },
  {
   "cell_type": "markdown",
   "metadata": {},
   "source": [
    "## Cleaning"
   ]
  },
  {
   "cell_type": "code",
   "execution_count": 40,
   "metadata": {
    "scrolled": true
   },
   "outputs": [
    {
     "data": {
      "text/plain": [
       "(array([False,  True]), array([  1740, 422793]))"
      ]
     },
     "execution_count": 40,
     "metadata": {},
     "output_type": "execute_result"
    }
   ],
   "source": [
    "file = \"/home/putra/Downloads/tmpjdulssd7.csv\"\n",
    "data= pd.read_csv(file)\n",
    "data.head()\n",
    "#data['Lat'].isna().values\n",
    "value, freq = np.unique(data['SHOOTING'].isnull().values, return_counts = True)\n",
    "(value, freq)"
   ]
  },
  {
   "cell_type": "code",
   "execution_count": 57,
   "metadata": {
    "scrolled": true
   },
   "outputs": [
    {
     "data": {
      "text/plain": [
       "(1740, 17)"
      ]
     },
     "execution_count": 57,
     "metadata": {},
     "output_type": "execute_result"
    }
   ],
   "source": [
    "data[data['SHOOTING'].notnull()].shape"
   ]
  },
  {
   "cell_type": "markdown",
   "metadata": {},
   "source": [
    "Terdapat "
   ]
  },
  {
   "cell_type": "code",
   "execution_count": 58,
   "metadata": {
    "scrolled": true
   },
   "outputs": [
    {
     "data": {
      "text/plain": [
       "SHOOTING                 1740\n",
       "Lat                    395898\n",
       "Long                   395898\n",
       "STREET                 412156\n",
       "DISTRICT               422346\n",
       "UCR_PART               424423\n",
       "INCIDENT_NUMBER        424533\n",
       "HOUR                   424533\n",
       "DAY_OF_WEEK            424533\n",
       "YEAR                   424533\n",
       "OCCURRED_ON_DATE       424533\n",
       "REPORTING_AREA         424533\n",
       "OFFENSE_DESCRIPTION    424533\n",
       "OFFENSE_CODE_GROUP     424533\n",
       "OFFENSE_CODE           424533\n",
       "MONTH                  424533\n",
       "Location               424533\n",
       "Name: count, dtype: object"
      ]
     },
     "execution_count": 58,
     "metadata": {},
     "output_type": "execute_result"
    }
   ],
   "source": [
    "summary_data = data.describe(include = 'all')\n",
    "summary_data.loc['count',:].sort_values()"
   ]
  },
  {
   "cell_type": "code",
   "execution_count": 59,
   "metadata": {},
   "outputs": [
    {
     "data": {
      "text/plain": [
       "6.745058688017186"
      ]
     },
     "execution_count": 59,
     "metadata": {},
     "output_type": "execute_result"
    }
   ],
   "source": [
    "((424533 - 395898)/424533)*100"
   ]
  },
  {
   "cell_type": "code",
   "execution_count": 5,
   "metadata": {},
   "outputs": [
    {
     "data": {
      "text/plain": [
       "0.06745058688017186"
      ]
     },
     "execution_count": 5,
     "metadata": {},
     "output_type": "execute_result"
    }
   ],
   "source": [
    "(424533.000000 - 395898.000000)/424533.000000"
   ]
  },
  {
   "cell_type": "markdown",
   "metadata": {},
   "source": [
    "karena missing data kurang dari 2% total observation, observation yang mempunyai missing di hapus"
   ]
  },
  {
   "cell_type": "code",
   "execution_count": 6,
   "metadata": {},
   "outputs": [],
   "source": [
    "data = data.dropna(axis = 0)"
   ]
  },
  {
   "cell_type": "code",
   "execution_count": 7,
   "metadata": {},
   "outputs": [
    {
     "data": {
      "text/html": [
       "<div>\n",
       "<style scoped>\n",
       "    .dataframe tbody tr th:only-of-type {\n",
       "        vertical-align: middle;\n",
       "    }\n",
       "\n",
       "    .dataframe tbody tr th {\n",
       "        vertical-align: top;\n",
       "    }\n",
       "\n",
       "    .dataframe thead th {\n",
       "        text-align: right;\n",
       "    }\n",
       "</style>\n",
       "<table border=\"1\" class=\"dataframe\">\n",
       "  <thead>\n",
       "    <tr style=\"text-align: right;\">\n",
       "      <th></th>\n",
       "      <th>OFFENSE_CODE</th>\n",
       "      <th>YEAR</th>\n",
       "      <th>MONTH</th>\n",
       "      <th>HOUR</th>\n",
       "      <th>Lat</th>\n",
       "      <th>Long</th>\n",
       "    </tr>\n",
       "  </thead>\n",
       "  <tbody>\n",
       "    <tr>\n",
       "      <th>count</th>\n",
       "      <td>1657.000000</td>\n",
       "      <td>1657.000000</td>\n",
       "      <td>1657.000000</td>\n",
       "      <td>1657.000000</td>\n",
       "      <td>1657.000000</td>\n",
       "      <td>1657.000000</td>\n",
       "    </tr>\n",
       "    <tr>\n",
       "      <th>mean</th>\n",
       "      <td>1159.190103</td>\n",
       "      <td>2017.051298</td>\n",
       "      <td>7.144237</td>\n",
       "      <td>13.062161</td>\n",
       "      <td>42.310774</td>\n",
       "      <td>-71.082917</td>\n",
       "    </tr>\n",
       "    <tr>\n",
       "      <th>std</th>\n",
       "      <td>1152.189853</td>\n",
       "      <td>1.282698</td>\n",
       "      <td>3.091844</td>\n",
       "      <td>8.393140</td>\n",
       "      <td>0.023594</td>\n",
       "      <td>0.019244</td>\n",
       "    </tr>\n",
       "    <tr>\n",
       "      <th>min</th>\n",
       "      <td>111.000000</td>\n",
       "      <td>2015.000000</td>\n",
       "      <td>1.000000</td>\n",
       "      <td>0.000000</td>\n",
       "      <td>42.236311</td>\n",
       "      <td>-71.167152</td>\n",
       "    </tr>\n",
       "    <tr>\n",
       "      <th>25%</th>\n",
       "      <td>413.000000</td>\n",
       "      <td>2016.000000</td>\n",
       "      <td>5.000000</td>\n",
       "      <td>3.000000</td>\n",
       "      <td>42.293075</td>\n",
       "      <td>-71.091878</td>\n",
       "    </tr>\n",
       "    <tr>\n",
       "      <th>50%</th>\n",
       "      <td>413.000000</td>\n",
       "      <td>2017.000000</td>\n",
       "      <td>7.000000</td>\n",
       "      <td>16.000000</td>\n",
       "      <td>42.312243</td>\n",
       "      <td>-71.081742</td>\n",
       "    </tr>\n",
       "    <tr>\n",
       "      <th>75%</th>\n",
       "      <td>1848.000000</td>\n",
       "      <td>2018.000000</td>\n",
       "      <td>10.000000</td>\n",
       "      <td>21.000000</td>\n",
       "      <td>42.325475</td>\n",
       "      <td>-71.071787</td>\n",
       "    </tr>\n",
       "    <tr>\n",
       "      <th>max</th>\n",
       "      <td>3831.000000</td>\n",
       "      <td>2019.000000</td>\n",
       "      <td>12.000000</td>\n",
       "      <td>23.000000</td>\n",
       "      <td>42.391933</td>\n",
       "      <td>-70.995362</td>\n",
       "    </tr>\n",
       "  </tbody>\n",
       "</table>\n",
       "</div>"
      ],
      "text/plain": [
       "       OFFENSE_CODE         YEAR        MONTH         HOUR          Lat  \\\n",
       "count   1657.000000  1657.000000  1657.000000  1657.000000  1657.000000   \n",
       "mean    1159.190103  2017.051298     7.144237    13.062161    42.310774   \n",
       "std     1152.189853     1.282698     3.091844     8.393140     0.023594   \n",
       "min      111.000000  2015.000000     1.000000     0.000000    42.236311   \n",
       "25%      413.000000  2016.000000     5.000000     3.000000    42.293075   \n",
       "50%      413.000000  2017.000000     7.000000    16.000000    42.312243   \n",
       "75%     1848.000000  2018.000000    10.000000    21.000000    42.325475   \n",
       "max     3831.000000  2019.000000    12.000000    23.000000    42.391933   \n",
       "\n",
       "              Long  \n",
       "count  1657.000000  \n",
       "mean    -71.082917  \n",
       "std       0.019244  \n",
       "min     -71.167152  \n",
       "25%     -71.091878  \n",
       "50%     -71.081742  \n",
       "75%     -71.071787  \n",
       "max     -70.995362  "
      ]
     },
     "execution_count": 7,
     "metadata": {},
     "output_type": "execute_result"
    }
   ],
   "source": [
    "data.describe()"
   ]
  },
  {
   "cell_type": "code",
   "execution_count": 8,
   "metadata": {},
   "outputs": [
    {
     "data": {
      "text/plain": [
       "28635.0"
      ]
     },
     "execution_count": 8,
     "metadata": {},
     "output_type": "execute_result"
    }
   ],
   "source": [
    "424533.000000 - 395898.000000"
   ]
  },
  {
   "cell_type": "code",
   "execution_count": 13,
   "metadata": {},
   "outputs": [
    {
     "data": {
      "text/plain": [
       "0"
      ]
     },
     "execution_count": 13,
     "metadata": {},
     "output_type": "execute_result"
    }
   ],
   "source": [
    "null_list = data['Lat'].isnull().map({False : 0, True: 1})\n",
    "sum(null_list)"
   ]
  },
  {
   "cell_type": "code",
   "execution_count": null,
   "metadata": {},
   "outputs": [],
   "source": []
  }
 ],
 "metadata": {
  "kernelspec": {
   "display_name": "Python 3",
   "language": "python",
   "name": "python3"
  },
  "language_info": {
   "codemirror_mode": {
    "name": "ipython",
    "version": 3
   },
   "file_extension": ".py",
   "mimetype": "text/x-python",
   "name": "python",
   "nbconvert_exporter": "python",
   "pygments_lexer": "ipython3",
   "version": "3.7.3"
  }
 },
 "nbformat": 4,
 "nbformat_minor": 2
}
